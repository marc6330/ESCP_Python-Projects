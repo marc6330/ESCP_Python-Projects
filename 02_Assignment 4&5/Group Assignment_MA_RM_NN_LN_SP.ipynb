{
 "cells": [
  {
   "cell_type": "code",
   "execution_count": 1,
   "outputs": [],
   "source": [
    "import pandas as pd\n",
    "import numpy as np\n",
    "import sklearn"
   ],
   "metadata": {
    "collapsed": false,
    "pycharm": {
     "name": "#%%\n"
    }
   }
  },
  {
   "cell_type": "markdown",
   "source": [
    "Import Data"
   ],
   "metadata": {
    "collapsed": false
   }
  },
  {
   "cell_type": "code",
   "execution_count": 2,
   "outputs": [],
   "source": [
    "df = pd.read_csv('ass_5_train.csv')\n",
    "df_t = pd.read_csv('ass_5_test.csv')"
   ],
   "metadata": {
    "collapsed": false,
    "pycharm": {
     "name": "#%%\n"
    }
   }
  },
  {
   "cell_type": "markdown",
   "source": [
    "Look at Datasets"
   ],
   "metadata": {
    "collapsed": false
   }
  },
  {
   "cell_type": "code",
   "execution_count": 3,
   "outputs": [
    {
     "data": {
      "text/plain": "   label      id  visitTime  purchaseTime  hour          C1          C2  \\\n0     -1   61518   19297675            -1     6   928106152  2541203883   \n1     -1  356604   19320277            -1    12  3382400190  2018710401   \n2     -1  603441   19346318            -1    20  2569487005  2018710401   \n3     -1  192754   19308171            -1     9  2569487005  2018710401   \n4     -1  210892   19309442            -1     9  1659166197  2018710401   \n\n           C3          C4          C5  ...  N4  N5  N6  N7  N8  N9  N10  \\\n0  3606287998   306394936  2967512603  ...   0   0   0   0   0   0    0   \n1  1302581498  2308170622  2967512603  ...   2   0   0   0   6   0    0   \n2  4121075497  2210625817  2967512603  ...   0   0   0   0   0   0    0   \n3  3531445293   652481754  2967512603  ...   0   0   0   0   0   0    0   \n4  1047694444  2210625817  2967512603  ...   0   0   0   0   0   0    0   \n\n          C10         C11         C12  \n0  1083418268  3831440054   830706566  \n1  2993954402  2379633508  1284343215  \n2  1601090997  3617851689  4220791646  \n3  4114483006  3617851689  4220791646  \n4  1971402551  2196958187   830706566  \n\n[5 rows x 27 columns]",
      "text/html": "<div>\n<style scoped>\n    .dataframe tbody tr th:only-of-type {\n        vertical-align: middle;\n    }\n\n    .dataframe tbody tr th {\n        vertical-align: top;\n    }\n\n    .dataframe thead th {\n        text-align: right;\n    }\n</style>\n<table border=\"1\" class=\"dataframe\">\n  <thead>\n    <tr style=\"text-align: right;\">\n      <th></th>\n      <th>label</th>\n      <th>id</th>\n      <th>visitTime</th>\n      <th>purchaseTime</th>\n      <th>hour</th>\n      <th>C1</th>\n      <th>C2</th>\n      <th>C3</th>\n      <th>C4</th>\n      <th>C5</th>\n      <th>...</th>\n      <th>N4</th>\n      <th>N5</th>\n      <th>N6</th>\n      <th>N7</th>\n      <th>N8</th>\n      <th>N9</th>\n      <th>N10</th>\n      <th>C10</th>\n      <th>C11</th>\n      <th>C12</th>\n    </tr>\n  </thead>\n  <tbody>\n    <tr>\n      <th>0</th>\n      <td>-1</td>\n      <td>61518</td>\n      <td>19297675</td>\n      <td>-1</td>\n      <td>6</td>\n      <td>928106152</td>\n      <td>2541203883</td>\n      <td>3606287998</td>\n      <td>306394936</td>\n      <td>2967512603</td>\n      <td>...</td>\n      <td>0</td>\n      <td>0</td>\n      <td>0</td>\n      <td>0</td>\n      <td>0</td>\n      <td>0</td>\n      <td>0</td>\n      <td>1083418268</td>\n      <td>3831440054</td>\n      <td>830706566</td>\n    </tr>\n    <tr>\n      <th>1</th>\n      <td>-1</td>\n      <td>356604</td>\n      <td>19320277</td>\n      <td>-1</td>\n      <td>12</td>\n      <td>3382400190</td>\n      <td>2018710401</td>\n      <td>1302581498</td>\n      <td>2308170622</td>\n      <td>2967512603</td>\n      <td>...</td>\n      <td>2</td>\n      <td>0</td>\n      <td>0</td>\n      <td>0</td>\n      <td>6</td>\n      <td>0</td>\n      <td>0</td>\n      <td>2993954402</td>\n      <td>2379633508</td>\n      <td>1284343215</td>\n    </tr>\n    <tr>\n      <th>2</th>\n      <td>-1</td>\n      <td>603441</td>\n      <td>19346318</td>\n      <td>-1</td>\n      <td>20</td>\n      <td>2569487005</td>\n      <td>2018710401</td>\n      <td>4121075497</td>\n      <td>2210625817</td>\n      <td>2967512603</td>\n      <td>...</td>\n      <td>0</td>\n      <td>0</td>\n      <td>0</td>\n      <td>0</td>\n      <td>0</td>\n      <td>0</td>\n      <td>0</td>\n      <td>1601090997</td>\n      <td>3617851689</td>\n      <td>4220791646</td>\n    </tr>\n    <tr>\n      <th>3</th>\n      <td>-1</td>\n      <td>192754</td>\n      <td>19308171</td>\n      <td>-1</td>\n      <td>9</td>\n      <td>2569487005</td>\n      <td>2018710401</td>\n      <td>3531445293</td>\n      <td>652481754</td>\n      <td>2967512603</td>\n      <td>...</td>\n      <td>0</td>\n      <td>0</td>\n      <td>0</td>\n      <td>0</td>\n      <td>0</td>\n      <td>0</td>\n      <td>0</td>\n      <td>4114483006</td>\n      <td>3617851689</td>\n      <td>4220791646</td>\n    </tr>\n    <tr>\n      <th>4</th>\n      <td>-1</td>\n      <td>210892</td>\n      <td>19309442</td>\n      <td>-1</td>\n      <td>9</td>\n      <td>1659166197</td>\n      <td>2018710401</td>\n      <td>1047694444</td>\n      <td>2210625817</td>\n      <td>2967512603</td>\n      <td>...</td>\n      <td>0</td>\n      <td>0</td>\n      <td>0</td>\n      <td>0</td>\n      <td>0</td>\n      <td>0</td>\n      <td>0</td>\n      <td>1971402551</td>\n      <td>2196958187</td>\n      <td>830706566</td>\n    </tr>\n  </tbody>\n</table>\n<p>5 rows × 27 columns</p>\n</div>"
     },
     "execution_count": 3,
     "metadata": {},
     "output_type": "execute_result"
    }
   ],
   "source": [
    "df.head(5)\n"
   ],
   "metadata": {
    "collapsed": false,
    "pycharm": {
     "name": "#%%\n"
    }
   }
  },
  {
   "cell_type": "markdown",
   "source": [
    "--> Interpretation of visitTime: Time since last visit"
   ],
   "metadata": {
    "collapsed": false
   }
  },
  {
   "cell_type": "code",
   "execution_count": 4,
   "outputs": [],
   "source": [
    "#df.visitTime = pd.to_datetime(df.visitTime, unit ='s')\n",
    "#df.purchaseTime = pd.to_datetime(df.purchaseTime, unit = 's')"
   ],
   "metadata": {
    "collapsed": false,
    "pycharm": {
     "name": "#%%\n"
    }
   }
  },
  {
   "cell_type": "code",
   "execution_count": 5,
   "outputs": [],
   "source": [
    "import dtale"
   ],
   "metadata": {
    "collapsed": false,
    "pycharm": {
     "name": "#%%\n"
    }
   }
  },
  {
   "cell_type": "code",
   "execution_count": 6,
   "outputs": [],
   "source": [
    "# Inspect if the PurchaseTime was converted well\n",
    "d = dtale.show(df)\n",
    "# d.open_browser()"
   ],
   "metadata": {
    "collapsed": false,
    "pycharm": {
     "name": "#%%\n"
    }
   }
  },
  {
   "cell_type": "code",
   "execution_count": 7,
   "outputs": [],
   "source": [
    "# Replace NaN again with 0 as Dates have been parsed now\n"
   ],
   "metadata": {
    "collapsed": false,
    "pycharm": {
     "name": "#%%\n"
    }
   }
  },
  {
   "cell_type": "code",
   "execution_count": 8,
   "outputs": [
    {
     "data": {
      "text/plain": "Index(['label', 'id', 'visitTime', 'purchaseTime', 'hour', 'C1', 'C2', 'C3',\n       'C4', 'C5', 'C6', 'C7', 'C8', 'N1', 'C9', 'N2', 'N3', 'N4', 'N5', 'N6',\n       'N7', 'N8', 'N9', 'N10', 'C10', 'C11', 'C12'],\n      dtype='object')"
     },
     "execution_count": 8,
     "metadata": {},
     "output_type": "execute_result"
    }
   ],
   "source": [
    "#Look at all columns\n",
    "df.columns"
   ],
   "metadata": {
    "collapsed": false,
    "pycharm": {
     "name": "#%%\n"
    }
   }
  },
  {
   "cell_type": "code",
   "execution_count": 9,
   "outputs": [
    {
     "name": "stdout",
     "output_type": "stream",
     "text": [
      "<class 'pandas.core.frame.DataFrame'>\n",
      "RangeIndex: 31428 entries, 0 to 31427\n",
      "Data columns (total 27 columns):\n",
      " #   Column        Non-Null Count  Dtype\n",
      "---  ------        --------------  -----\n",
      " 0   label         31428 non-null  int64\n",
      " 1   id            31428 non-null  int64\n",
      " 2   visitTime     31428 non-null  int64\n",
      " 3   purchaseTime  31428 non-null  int64\n",
      " 4   hour          31428 non-null  int64\n",
      " 5   C1            31428 non-null  int64\n",
      " 6   C2            31428 non-null  int64\n",
      " 7   C3            31428 non-null  int64\n",
      " 8   C4            31428 non-null  int64\n",
      " 9   C5            31428 non-null  int64\n",
      " 10  C6            31428 non-null  int64\n",
      " 11  C7            31428 non-null  int64\n",
      " 12  C8            31428 non-null  int64\n",
      " 13  N1            31428 non-null  int64\n",
      " 14  C9            31428 non-null  int64\n",
      " 15  N2            31428 non-null  int64\n",
      " 16  N3            31428 non-null  int64\n",
      " 17  N4            31428 non-null  int64\n",
      " 18  N5            31428 non-null  int64\n",
      " 19  N6            31428 non-null  int64\n",
      " 20  N7            31428 non-null  int64\n",
      " 21  N8            31428 non-null  int64\n",
      " 22  N9            31428 non-null  int64\n",
      " 23  N10           31428 non-null  int64\n",
      " 24  C10           31428 non-null  int64\n",
      " 25  C11           31428 non-null  int64\n",
      " 26  C12           31428 non-null  int64\n",
      "dtypes: int64(27)\n",
      "memory usage: 6.5 MB\n"
     ]
    }
   ],
   "source": [
    "df.info()"
   ],
   "metadata": {
    "collapsed": false,
    "pycharm": {
     "name": "#%%\n"
    }
   }
  },
  {
   "cell_type": "markdown",
   "source": [
    "Transform C columns into categories"
   ],
   "metadata": {
    "collapsed": false
   }
  },
  {
   "cell_type": "code",
   "execution_count": 10,
   "outputs": [],
   "source": [
    "df[['hour', 'C1', 'C2', 'C3','C4', 'C5', 'C6', 'C7', 'C8', 'C9', 'C10', 'C11', 'C12']] = df[['hour', 'C1', 'C2', 'C3','C4', 'C5', 'C6', 'C7', 'C8', 'C9', 'C10', 'C11', 'C12']].astype('category')"
   ],
   "metadata": {
    "collapsed": false,
    "pycharm": {
     "name": "#%%\n"
    }
   }
  },
  {
   "cell_type": "code",
   "execution_count": 11,
   "outputs": [
    {
     "data": {
      "text/plain": "   label      id  visitTime  purchaseTime hour          C1          C2  \\\n0     -1   61518   19297675            -1    6   928106152  2541203883   \n1     -1  356604   19320277            -1   12  3382400190  2018710401   \n2     -1  603441   19346318            -1   20  2569487005  2018710401   \n3     -1  192754   19308171            -1    9  2569487005  2018710401   \n4     -1  210892   19309442            -1    9  1659166197  2018710401   \n\n           C3          C4          C5  ... N4 N5 N6  N7 N8  N9  N10  \\\n0  3606287998   306394936  2967512603  ...  0  0  0   0  0   0    0   \n1  1302581498  2308170622  2967512603  ...  2  0  0   0  6   0    0   \n2  4121075497  2210625817  2967512603  ...  0  0  0   0  0   0    0   \n3  3531445293   652481754  2967512603  ...  0  0  0   0  0   0    0   \n4  1047694444  2210625817  2967512603  ...  0  0  0   0  0   0    0   \n\n          C10         C11         C12  \n0  1083418268  3831440054   830706566  \n1  2993954402  2379633508  1284343215  \n2  1601090997  3617851689  4220791646  \n3  4114483006  3617851689  4220791646  \n4  1971402551  2196958187   830706566  \n\n[5 rows x 27 columns]",
      "text/html": "<div>\n<style scoped>\n    .dataframe tbody tr th:only-of-type {\n        vertical-align: middle;\n    }\n\n    .dataframe tbody tr th {\n        vertical-align: top;\n    }\n\n    .dataframe thead th {\n        text-align: right;\n    }\n</style>\n<table border=\"1\" class=\"dataframe\">\n  <thead>\n    <tr style=\"text-align: right;\">\n      <th></th>\n      <th>label</th>\n      <th>id</th>\n      <th>visitTime</th>\n      <th>purchaseTime</th>\n      <th>hour</th>\n      <th>C1</th>\n      <th>C2</th>\n      <th>C3</th>\n      <th>C4</th>\n      <th>C5</th>\n      <th>...</th>\n      <th>N4</th>\n      <th>N5</th>\n      <th>N6</th>\n      <th>N7</th>\n      <th>N8</th>\n      <th>N9</th>\n      <th>N10</th>\n      <th>C10</th>\n      <th>C11</th>\n      <th>C12</th>\n    </tr>\n  </thead>\n  <tbody>\n    <tr>\n      <th>0</th>\n      <td>-1</td>\n      <td>61518</td>\n      <td>19297675</td>\n      <td>-1</td>\n      <td>6</td>\n      <td>928106152</td>\n      <td>2541203883</td>\n      <td>3606287998</td>\n      <td>306394936</td>\n      <td>2967512603</td>\n      <td>...</td>\n      <td>0</td>\n      <td>0</td>\n      <td>0</td>\n      <td>0</td>\n      <td>0</td>\n      <td>0</td>\n      <td>0</td>\n      <td>1083418268</td>\n      <td>3831440054</td>\n      <td>830706566</td>\n    </tr>\n    <tr>\n      <th>1</th>\n      <td>-1</td>\n      <td>356604</td>\n      <td>19320277</td>\n      <td>-1</td>\n      <td>12</td>\n      <td>3382400190</td>\n      <td>2018710401</td>\n      <td>1302581498</td>\n      <td>2308170622</td>\n      <td>2967512603</td>\n      <td>...</td>\n      <td>2</td>\n      <td>0</td>\n      <td>0</td>\n      <td>0</td>\n      <td>6</td>\n      <td>0</td>\n      <td>0</td>\n      <td>2993954402</td>\n      <td>2379633508</td>\n      <td>1284343215</td>\n    </tr>\n    <tr>\n      <th>2</th>\n      <td>-1</td>\n      <td>603441</td>\n      <td>19346318</td>\n      <td>-1</td>\n      <td>20</td>\n      <td>2569487005</td>\n      <td>2018710401</td>\n      <td>4121075497</td>\n      <td>2210625817</td>\n      <td>2967512603</td>\n      <td>...</td>\n      <td>0</td>\n      <td>0</td>\n      <td>0</td>\n      <td>0</td>\n      <td>0</td>\n      <td>0</td>\n      <td>0</td>\n      <td>1601090997</td>\n      <td>3617851689</td>\n      <td>4220791646</td>\n    </tr>\n    <tr>\n      <th>3</th>\n      <td>-1</td>\n      <td>192754</td>\n      <td>19308171</td>\n      <td>-1</td>\n      <td>9</td>\n      <td>2569487005</td>\n      <td>2018710401</td>\n      <td>3531445293</td>\n      <td>652481754</td>\n      <td>2967512603</td>\n      <td>...</td>\n      <td>0</td>\n      <td>0</td>\n      <td>0</td>\n      <td>0</td>\n      <td>0</td>\n      <td>0</td>\n      <td>0</td>\n      <td>4114483006</td>\n      <td>3617851689</td>\n      <td>4220791646</td>\n    </tr>\n    <tr>\n      <th>4</th>\n      <td>-1</td>\n      <td>210892</td>\n      <td>19309442</td>\n      <td>-1</td>\n      <td>9</td>\n      <td>1659166197</td>\n      <td>2018710401</td>\n      <td>1047694444</td>\n      <td>2210625817</td>\n      <td>2967512603</td>\n      <td>...</td>\n      <td>0</td>\n      <td>0</td>\n      <td>0</td>\n      <td>0</td>\n      <td>0</td>\n      <td>0</td>\n      <td>0</td>\n      <td>1971402551</td>\n      <td>2196958187</td>\n      <td>830706566</td>\n    </tr>\n  </tbody>\n</table>\n<p>5 rows × 27 columns</p>\n</div>"
     },
     "execution_count": 11,
     "metadata": {},
     "output_type": "execute_result"
    }
   ],
   "source": [
    "df.head()"
   ],
   "metadata": {
    "collapsed": false,
    "pycharm": {
     "name": "#%%\n"
    }
   }
  },
  {
   "cell_type": "code",
   "execution_count": 12,
   "outputs": [],
   "source": [
    "import seaborn as sns\n",
    "import matplotlib.pyplot as plt"
   ],
   "metadata": {
    "collapsed": false,
    "pycharm": {
     "name": "#%%\n"
    }
   }
  },
  {
   "cell_type": "markdown",
   "source": [
    "Create Heatmap to see Multicolinearity\n",
    "- Pearson Correlation can usually only be used for Regressions, however for a binary classification it is also possible."
   ],
   "metadata": {
    "collapsed": false
   }
  },
  {
   "cell_type": "code",
   "execution_count": 13,
   "outputs": [
    {
     "data": {
      "text/plain": "<AxesSubplot:>"
     },
     "execution_count": 13,
     "metadata": {},
     "output_type": "execute_result"
    },
    {
     "data": {
      "text/plain": "<Figure size 2160x1800 with 2 Axes>",
      "image/png": "[encoded data removed]"
     },
     "metadata": {
      "needs_background": "light"
     },
     "output_type": "display_data"
    }
   ],
   "source": [
    "df_corr = df.corr()\n",
    "plt.figure(figsize=(30,25))\n",
    "sns.heatmap(df_corr, annot = True)"
   ],
   "metadata": {
    "collapsed": false,
    "pycharm": {
     "name": "#%%\n"
    }
   }
  },
  {
   "cell_type": "markdown",
   "source": [
    "When looking at the Heatmap, as a first step one has to remind itself of the definiton for multicolinearity:\n",
    "- Multicolinearity is a problem if it is between dependent variables. Hence, when looking at the heatmap one can argue N4 is multicolinear with N8 and therefore once of these variables have to be dropped.\n",
    "\n",
    "This means, that the high correlation of purchaseTime and visitTime with label does not account for a multicolinear problem\n",
    "\n",
    "As a next step, one has to decide with which features we want to continue. There are several ways which I will try to different ones:\n",
    "- Option 1: Only use purchaseTime and visit Time as there very highly correlated with label and therefore promise a good results\n",
    "- Option 2: Use all the features except for the ones we have to drop due to multicolinearity"
   ],
   "metadata": {
    "collapsed": false
   }
  },
  {
   "cell_type": "code",
   "execution_count": 14,
   "outputs": [
    {
     "data": {
      "text/plain": "<AxesSubplot:>"
     },
     "execution_count": 14,
     "metadata": {},
     "output_type": "execute_result"
    },
    {
     "data": {
      "text/plain": "<Figure size 2160x1800 with 2 Axes>",
      "image/png": "[encoded data removed]"
     },
     "metadata": {
      "needs_background": "light"
     },
     "output_type": "display_data"
    }
   ],
   "source": [
    "#Select only bottom of the correlation matrix\n",
    "df_corr_MC = df_corr[df_corr > 0.7]\n",
    "\n",
    "mask_ut=np.triu(np.ones(df_corr_MC.shape)).astype(np.bool)\n",
    "plt.figure(figsize=(30,25))\n",
    "sns.heatmap(df_corr_MC, mask = mask_ut, annot = True)"
   ],
   "metadata": {
    "collapsed": false,
    "pycharm": {
     "name": "#%%\n"
    }
   }
  },
  {
   "cell_type": "markdown",
   "source": [
    "- Removal of N10 and N4 as they have a correlation with an other independent Variable (multicolinearity) of the chose value 0.7\n",
    "- N10 and N4 are chosen over N8 and N9 as they have a better correlation with label"
   ],
   "metadata": {
    "collapsed": false
   }
  },
  {
   "cell_type": "code",
   "execution_count": 15,
   "outputs": [],
   "source": [
    "from sklearn.model_selection import train_test_split"
   ],
   "metadata": {
    "collapsed": false,
    "pycharm": {
     "name": "#%%\n"
    }
   }
  },
  {
   "cell_type": "code",
   "execution_count": 16,
   "outputs": [
    {
     "data": {
      "text/plain": "   purchaseTime  visitTime\n0            -1   19297675\n1            -1   19320277\n2            -1   19346318\n3            -1   19308171\n4            -1   19309442",
      "text/html": "<div>\n<style scoped>\n    .dataframe tbody tr th:only-of-type {\n        vertical-align: middle;\n    }\n\n    .dataframe tbody tr th {\n        vertical-align: top;\n    }\n\n    .dataframe thead th {\n        text-align: right;\n    }\n</style>\n<table border=\"1\" class=\"dataframe\">\n  <thead>\n    <tr style=\"text-align: right;\">\n      <th></th>\n      <th>purchaseTime</th>\n      <th>visitTime</th>\n    </tr>\n  </thead>\n  <tbody>\n    <tr>\n      <th>0</th>\n      <td>-1</td>\n      <td>19297675</td>\n    </tr>\n    <tr>\n      <th>1</th>\n      <td>-1</td>\n      <td>19320277</td>\n    </tr>\n    <tr>\n      <th>2</th>\n      <td>-1</td>\n      <td>19346318</td>\n    </tr>\n    <tr>\n      <th>3</th>\n      <td>-1</td>\n      <td>19308171</td>\n    </tr>\n    <tr>\n      <th>4</th>\n      <td>-1</td>\n      <td>19309442</td>\n    </tr>\n  </tbody>\n</table>\n</div>"
     },
     "execution_count": 16,
     "metadata": {},
     "output_type": "execute_result"
    }
   ],
   "source": [
    "x_1 = df[['purchaseTime', 'visitTime']]\n",
    "x_1.head()"
   ],
   "metadata": {
    "collapsed": false,
    "pycharm": {
     "name": "#%%\n"
    }
   }
  },
  {
   "cell_type": "code",
   "execution_count": 17,
   "outputs": [],
   "source": [
    "y = df[['label']]"
   ],
   "metadata": {
    "collapsed": false,
    "pycharm": {
     "name": "#%%\n"
    }
   }
  },
  {
   "cell_type": "code",
   "execution_count": 18,
   "outputs": [],
   "source": [
    "x_train, x_test, y_train, y_test = train_test_split(x_1, y, test_size= 0.2)"
   ],
   "metadata": {
    "collapsed": false,
    "pycharm": {
     "name": "#%%\n"
    }
   }
  },
  {
   "cell_type": "markdown",
   "source": [
    "Creating Option 1:"
   ],
   "metadata": {
    "collapsed": false
   }
  },
  {
   "cell_type": "code",
   "execution_count": 19,
   "outputs": [],
   "source": [
    "from sklearn.naive_bayes import GaussianNB"
   ],
   "metadata": {
    "collapsed": false,
    "pycharm": {
     "name": "#%%\n"
    }
   }
  },
  {
   "cell_type": "code",
   "execution_count": 20,
   "outputs": [],
   "source": [
    "gnb = GaussianNB()\n",
    "y_pred = gnb.fit(x_train, y_train.values.ravel()).predict(x_test)"
   ],
   "metadata": {
    "collapsed": false,
    "pycharm": {
     "name": "#%%\n"
    }
   }
  },
  {
   "cell_type": "markdown",
   "source": [
    "Score model"
   ],
   "metadata": {
    "collapsed": false
   }
  },
  {
   "cell_type": "code",
   "execution_count": 21,
   "outputs": [],
   "source": [
    "from sklearn.metrics import classification_report"
   ],
   "metadata": {
    "collapsed": false,
    "pycharm": {
     "name": "#%%\n"
    }
   }
  },
  {
   "cell_type": "code",
   "execution_count": 22,
   "outputs": [
    {
     "name": "stdout",
     "output_type": "stream",
     "text": [
      "              precision    recall  f1-score   support\n",
      "\n",
      "          -1       1.00      1.00      1.00      6277\n",
      "           1       1.00      1.00      1.00         9\n",
      "\n",
      "    accuracy                           1.00      6286\n",
      "   macro avg       1.00      1.00      1.00      6286\n",
      "weighted avg       1.00      1.00      1.00      6286\n",
      "\n"
     ]
    }
   ],
   "source": [
    "print(classification_report(y_test,y_pred))"
   ],
   "metadata": {
    "collapsed": false,
    "pycharm": {
     "name": "#%%\n"
    }
   }
  },
  {
   "cell_type": "markdown",
   "source": [
    "From the Naive Bayes we see that precision, recall as well as F1 Scores are 1 --> Hence, the model can very accurately predict the label with the features:\n",
    "-  Option 1:\n",
    "   - visitTime\n",
    "   - purchaseTime\n",
    "\n",
    "Hence, it does not make sense to further investigate other models if the score of the test set will yield in the sames scores"
   ],
   "metadata": {
    "collapsed": false
   }
  },
  {
   "cell_type": "markdown",
   "source": [
    "# Trained model used on test DF"
   ],
   "metadata": {
    "collapsed": false
   }
  },
  {
   "cell_type": "code",
   "execution_count": 23,
   "outputs": [
    {
     "data": {
      "text/plain": "   label     id  visitTime  purchaseTime  hour          C1          C2  \\\n0     -1  25540   19420446            -1    16  2569487005  2018710401   \n1     -1  29938   19431062            -1    19  1981742921  1235983246   \n2     -1   9585   19392956            -1     8  2486871669  1235983246   \n3     -1  23597   19416124            -1    15  3427628467  1235983246   \n4     -1  27695   19425109            -1    17  2214885086  2541203883   \n\n           C3          C4          C5  ...  N4  N5  N6  N7  N8  N9  N10  \\\n0  1429850909  2308170622  2967512603  ...   0   0   0   0   0   0    0   \n1  4203734567   652481754  2116767313  ...   0   0   0   0   0   0    0   \n2  2776175989   652481754  2116767313  ...   0   0   0   0   0   0    0   \n3  4172481347   652481754  2116767313  ...   0   0   0   0   0   0    0   \n4  3948279888   652481754  2967512603  ...   0   0   0   0   0   0    0   \n\n          C10         C11         C12  \n0  1887882016  3617851689  4220791646  \n1  3375463994  2379633508  1284343215  \n2  3441876061  2196958187  1550397227  \n3  2835356425  3831440054  1213938795  \n4  1453469701  3831440054   830706566  \n\n[5 rows x 27 columns]",
      "text/html": "<div>\n<style scoped>\n    .dataframe tbody tr th:only-of-type {\n        vertical-align: middle;\n    }\n\n    .dataframe tbody tr th {\n        vertical-align: top;\n    }\n\n    .dataframe thead th {\n        text-align: right;\n    }\n</style>\n<table border=\"1\" class=\"dataframe\">\n  <thead>\n    <tr style=\"text-align: right;\">\n      <th></th>\n      <th>label</th>\n      <th>id</th>\n      <th>visitTime</th>\n      <th>purchaseTime</th>\n      <th>hour</th>\n      <th>C1</th>\n      <th>C2</th>\n      <th>C3</th>\n      <th>C4</th>\n      <th>C5</th>\n      <th>...</th>\n      <th>N4</th>\n      <th>N5</th>\n      <th>N6</th>\n      <th>N7</th>\n      <th>N8</th>\n      <th>N9</th>\n      <th>N10</th>\n      <th>C10</th>\n      <th>C11</th>\n      <th>C12</th>\n    </tr>\n  </thead>\n  <tbody>\n    <tr>\n      <th>0</th>\n      <td>-1</td>\n      <td>25540</td>\n      <td>19420446</td>\n      <td>-1</td>\n      <td>16</td>\n      <td>2569487005</td>\n      <td>2018710401</td>\n      <td>1429850909</td>\n      <td>2308170622</td>\n      <td>2967512603</td>\n      <td>...</td>\n      <td>0</td>\n      <td>0</td>\n      <td>0</td>\n      <td>0</td>\n      <td>0</td>\n      <td>0</td>\n      <td>0</td>\n      <td>1887882016</td>\n      <td>3617851689</td>\n      <td>4220791646</td>\n    </tr>\n    <tr>\n      <th>1</th>\n      <td>-1</td>\n      <td>29938</td>\n      <td>19431062</td>\n      <td>-1</td>\n      <td>19</td>\n      <td>1981742921</td>\n      <td>1235983246</td>\n      <td>4203734567</td>\n      <td>652481754</td>\n      <td>2116767313</td>\n      <td>...</td>\n      <td>0</td>\n      <td>0</td>\n      <td>0</td>\n      <td>0</td>\n      <td>0</td>\n      <td>0</td>\n      <td>0</td>\n      <td>3375463994</td>\n      <td>2379633508</td>\n      <td>1284343215</td>\n    </tr>\n    <tr>\n      <th>2</th>\n      <td>-1</td>\n      <td>9585</td>\n      <td>19392956</td>\n      <td>-1</td>\n      <td>8</td>\n      <td>2486871669</td>\n      <td>1235983246</td>\n      <td>2776175989</td>\n      <td>652481754</td>\n      <td>2116767313</td>\n      <td>...</td>\n      <td>0</td>\n      <td>0</td>\n      <td>0</td>\n      <td>0</td>\n      <td>0</td>\n      <td>0</td>\n      <td>0</td>\n      <td>3441876061</td>\n      <td>2196958187</td>\n      <td>1550397227</td>\n    </tr>\n    <tr>\n      <th>3</th>\n      <td>-1</td>\n      <td>23597</td>\n      <td>19416124</td>\n      <td>-1</td>\n      <td>15</td>\n      <td>3427628467</td>\n      <td>1235983246</td>\n      <td>4172481347</td>\n      <td>652481754</td>\n      <td>2116767313</td>\n      <td>...</td>\n      <td>0</td>\n      <td>0</td>\n      <td>0</td>\n      <td>0</td>\n      <td>0</td>\n      <td>0</td>\n      <td>0</td>\n      <td>2835356425</td>\n      <td>3831440054</td>\n      <td>1213938795</td>\n    </tr>\n    <tr>\n      <th>4</th>\n      <td>-1</td>\n      <td>27695</td>\n      <td>19425109</td>\n      <td>-1</td>\n      <td>17</td>\n      <td>2214885086</td>\n      <td>2541203883</td>\n      <td>3948279888</td>\n      <td>652481754</td>\n      <td>2967512603</td>\n      <td>...</td>\n      <td>0</td>\n      <td>0</td>\n      <td>0</td>\n      <td>0</td>\n      <td>0</td>\n      <td>0</td>\n      <td>0</td>\n      <td>1453469701</td>\n      <td>3831440054</td>\n      <td>830706566</td>\n    </tr>\n  </tbody>\n</table>\n<p>5 rows × 27 columns</p>\n</div>"
     },
     "execution_count": 23,
     "metadata": {},
     "output_type": "execute_result"
    }
   ],
   "source": [
    "df_t.head()"
   ],
   "metadata": {
    "collapsed": false,
    "pycharm": {
     "name": "#%%\n"
    }
   }
  },
  {
   "cell_type": "code",
   "execution_count": 24,
   "outputs": [
    {
     "name": "stdout",
     "output_type": "stream",
     "text": [
      "<class 'pandas.core.frame.DataFrame'>\n",
      "RangeIndex: 32086 entries, 0 to 32085\n",
      "Data columns (total 27 columns):\n",
      " #   Column        Non-Null Count  Dtype\n",
      "---  ------        --------------  -----\n",
      " 0   label         32086 non-null  int64\n",
      " 1   id            32086 non-null  int64\n",
      " 2   visitTime     32086 non-null  int64\n",
      " 3   purchaseTime  32086 non-null  int64\n",
      " 4   hour          32086 non-null  int64\n",
      " 5   C1            32086 non-null  int64\n",
      " 6   C2            32086 non-null  int64\n",
      " 7   C3            32086 non-null  int64\n",
      " 8   C4            32086 non-null  int64\n",
      " 9   C5            32086 non-null  int64\n",
      " 10  C6            32086 non-null  int64\n",
      " 11  C7            32086 non-null  int64\n",
      " 12  C8            32086 non-null  int64\n",
      " 13  N1            32086 non-null  int64\n",
      " 14  C9            32086 non-null  int64\n",
      " 15  N2            32086 non-null  int64\n",
      " 16  N3            32086 non-null  int64\n",
      " 17  N4            32086 non-null  int64\n",
      " 18  N5            32086 non-null  int64\n",
      " 19  N6            32086 non-null  int64\n",
      " 20  N7            32086 non-null  int64\n",
      " 21  N8            32086 non-null  int64\n",
      " 22  N9            32086 non-null  int64\n",
      " 23  N10           32086 non-null  int64\n",
      " 24  C10           32086 non-null  int64\n",
      " 25  C11           32086 non-null  int64\n",
      " 26  C12           32086 non-null  int64\n",
      "dtypes: int64(27)\n",
      "memory usage: 6.6 MB\n"
     ]
    }
   ],
   "source": [
    "df_t.info()"
   ],
   "metadata": {
    "collapsed": false,
    "pycharm": {
     "name": "#%%\n"
    }
   }
  },
  {
   "cell_type": "code",
   "execution_count": 24,
   "outputs": [],
   "source": [],
   "metadata": {
    "collapsed": false,
    "pycharm": {
     "name": "#%%\n"
    }
   }
  },
  {
   "cell_type": "code",
   "execution_count": 25,
   "outputs": [
    {
     "data": {
      "text/plain": "   purchaseTime  visitTime\n0            -1   19420446\n1            -1   19431062\n2            -1   19392956\n3            -1   19416124\n4            -1   19425109",
      "text/html": "<div>\n<style scoped>\n    .dataframe tbody tr th:only-of-type {\n        vertical-align: middle;\n    }\n\n    .dataframe tbody tr th {\n        vertical-align: top;\n    }\n\n    .dataframe thead th {\n        text-align: right;\n    }\n</style>\n<table border=\"1\" class=\"dataframe\">\n  <thead>\n    <tr style=\"text-align: right;\">\n      <th></th>\n      <th>purchaseTime</th>\n      <th>visitTime</th>\n    </tr>\n  </thead>\n  <tbody>\n    <tr>\n      <th>0</th>\n      <td>-1</td>\n      <td>19420446</td>\n    </tr>\n    <tr>\n      <th>1</th>\n      <td>-1</td>\n      <td>19431062</td>\n    </tr>\n    <tr>\n      <th>2</th>\n      <td>-1</td>\n      <td>19392956</td>\n    </tr>\n    <tr>\n      <th>3</th>\n      <td>-1</td>\n      <td>19416124</td>\n    </tr>\n    <tr>\n      <th>4</th>\n      <td>-1</td>\n      <td>19425109</td>\n    </tr>\n  </tbody>\n</table>\n</div>"
     },
     "execution_count": 25,
     "metadata": {},
     "output_type": "execute_result"
    }
   ],
   "source": [
    "x_2 = df_t[['purchaseTime', 'visitTime']]\n",
    "x_2.head()"
   ],
   "metadata": {
    "collapsed": false,
    "pycharm": {
     "name": "#%%\n"
    }
   }
  },
  {
   "cell_type": "code",
   "execution_count": 26,
   "outputs": [],
   "source": [
    "y_2 = df_t[['label']]"
   ],
   "metadata": {
    "collapsed": false,
    "pycharm": {
     "name": "#%%\n"
    }
   }
  },
  {
   "cell_type": "code",
   "execution_count": 27,
   "outputs": [],
   "source": [
    "y_pred2 = gnb.predict(x_2)"
   ],
   "metadata": {
    "collapsed": false,
    "pycharm": {
     "name": "#%%\n"
    }
   }
  },
  {
   "cell_type": "markdown",
   "source": [
    "Score model for test df"
   ],
   "metadata": {
    "collapsed": false
   }
  },
  {
   "cell_type": "code",
   "execution_count": 28,
   "outputs": [
    {
     "name": "stdout",
     "output_type": "stream",
     "text": [
      "              precision    recall  f1-score   support\n",
      "\n",
      "          -1       1.00      1.00      1.00     32086\n",
      "\n",
      "    accuracy                           1.00     32086\n",
      "   macro avg       1.00      1.00      1.00     32086\n",
      "weighted avg       1.00      1.00      1.00     32086\n",
      "\n"
     ]
    }
   ],
   "source": [
    "print(classification_report(y_2,y_pred2))"
   ],
   "metadata": {
    "collapsed": false,
    "pycharm": {
     "name": "#%%\n"
    }
   }
  },
  {
   "cell_type": "markdown",
   "source": [
    "Looking at the output of the classification report one could think this id odd.\n",
    "However, when looking at the labeled data of the test df, one realizes that only -1 is supposed to be predicted. Hence, the NB Algorithm works very accurately with only the two features:\n",
    " - visitTime\n",
    " - purchaseTime\n",
    "\n",
    "Hence, Option 2 and further feature selection is not necessary"
   ],
   "metadata": {
    "collapsed": false
   }
  },
  {
   "cell_type": "markdown",
   "source": [
    "Preparing deliverable"
   ],
   "metadata": {
    "collapsed": false
   }
  },
  {
   "cell_type": "code",
   "execution_count": 29,
   "outputs": [],
   "source": [
    "y_proba = gnb.predict_proba(x_2)"
   ],
   "metadata": {
    "collapsed": false,
    "pycharm": {
     "name": "#%%\n"
    }
   }
  },
  {
   "cell_type": "code",
   "execution_count": 30,
   "outputs": [
    {
     "data": {
      "text/plain": "         0    1\n0      1.0  0.0\n1      1.0  0.0\n2      1.0  0.0\n3      1.0  0.0\n4      1.0  0.0\n...    ...  ...\n32081  1.0  0.0\n32082  1.0  0.0\n32083  1.0  0.0\n32084  1.0  0.0\n32085  1.0  0.0\n\n[32086 rows x 2 columns]",
      "text/html": "<div>\n<style scoped>\n    .dataframe tbody tr th:only-of-type {\n        vertical-align: middle;\n    }\n\n    .dataframe tbody tr th {\n        vertical-align: top;\n    }\n\n    .dataframe thead th {\n        text-align: right;\n    }\n</style>\n<table border=\"1\" class=\"dataframe\">\n  <thead>\n    <tr style=\"text-align: right;\">\n      <th></th>\n      <th>0</th>\n      <th>1</th>\n    </tr>\n  </thead>\n  <tbody>\n    <tr>\n      <th>0</th>\n      <td>1.0</td>\n      <td>0.0</td>\n    </tr>\n    <tr>\n      <th>1</th>\n      <td>1.0</td>\n      <td>0.0</td>\n    </tr>\n    <tr>\n      <th>2</th>\n      <td>1.0</td>\n      <td>0.0</td>\n    </tr>\n    <tr>\n      <th>3</th>\n      <td>1.0</td>\n      <td>0.0</td>\n    </tr>\n    <tr>\n      <th>4</th>\n      <td>1.0</td>\n      <td>0.0</td>\n    </tr>\n    <tr>\n      <th>...</th>\n      <td>...</td>\n      <td>...</td>\n    </tr>\n    <tr>\n      <th>32081</th>\n      <td>1.0</td>\n      <td>0.0</td>\n    </tr>\n    <tr>\n      <th>32082</th>\n      <td>1.0</td>\n      <td>0.0</td>\n    </tr>\n    <tr>\n      <th>32083</th>\n      <td>1.0</td>\n      <td>0.0</td>\n    </tr>\n    <tr>\n      <th>32084</th>\n      <td>1.0</td>\n      <td>0.0</td>\n    </tr>\n    <tr>\n      <th>32085</th>\n      <td>1.0</td>\n      <td>0.0</td>\n    </tr>\n  </tbody>\n</table>\n<p>32086 rows × 2 columns</p>\n</div>"
     },
     "execution_count": 30,
     "metadata": {},
     "output_type": "execute_result"
    }
   ],
   "source": [
    "y_proba = pd.DataFrame(y_proba)\n",
    "y_proba"
   ],
   "metadata": {
    "collapsed": false,
    "pycharm": {
     "name": "#%%\n"
    }
   }
  },
  {
   "cell_type": "code",
   "execution_count": 31,
   "outputs": [
    {
     "data": {
      "text/plain": "0        0.0\n1        0.0\n2        0.0\n3        0.0\n4        0.0\n        ... \n32081    0.0\n32082    0.0\n32083    0.0\n32084    0.0\n32085    0.0\nName: 1, Length: 32086, dtype: float64"
     },
     "execution_count": 31,
     "metadata": {},
     "output_type": "execute_result"
    }
   ],
   "source": [
    "prob = y_proba[1]\n",
    "prob"
   ],
   "metadata": {
    "collapsed": false,
    "pycharm": {
     "name": "#%%\n"
    }
   }
  },
  {
   "cell_type": "code",
   "execution_count": 32,
   "outputs": [
    {
     "data": {
      "text/plain": "         1\n0      0.0\n1      0.0\n2      0.0\n3      0.0\n4      0.0\n...    ...\n32081  0.0\n32082  0.0\n32083  0.0\n32084  0.0\n32085  0.0\n\n[32086 rows x 1 columns]",
      "text/html": "<div>\n<style scoped>\n    .dataframe tbody tr th:only-of-type {\n        vertical-align: middle;\n    }\n\n    .dataframe tbody tr th {\n        vertical-align: top;\n    }\n\n    .dataframe thead th {\n        text-align: right;\n    }\n</style>\n<table border=\"1\" class=\"dataframe\">\n  <thead>\n    <tr style=\"text-align: right;\">\n      <th></th>\n      <th>1</th>\n    </tr>\n  </thead>\n  <tbody>\n    <tr>\n      <th>0</th>\n      <td>0.0</td>\n    </tr>\n    <tr>\n      <th>1</th>\n      <td>0.0</td>\n    </tr>\n    <tr>\n      <th>2</th>\n      <td>0.0</td>\n    </tr>\n    <tr>\n      <th>3</th>\n      <td>0.0</td>\n    </tr>\n    <tr>\n      <th>4</th>\n      <td>0.0</td>\n    </tr>\n    <tr>\n      <th>...</th>\n      <td>...</td>\n    </tr>\n    <tr>\n      <th>32081</th>\n      <td>0.0</td>\n    </tr>\n    <tr>\n      <th>32082</th>\n      <td>0.0</td>\n    </tr>\n    <tr>\n      <th>32083</th>\n      <td>0.0</td>\n    </tr>\n    <tr>\n      <th>32084</th>\n      <td>0.0</td>\n    </tr>\n    <tr>\n      <th>32085</th>\n      <td>0.0</td>\n    </tr>\n  </tbody>\n</table>\n<p>32086 rows × 1 columns</p>\n</div>"
     },
     "execution_count": 32,
     "metadata": {},
     "output_type": "execute_result"
    }
   ],
   "source": [
    "df_final = pd.DataFrame(prob)\n",
    "df_final"
   ],
   "metadata": {
    "collapsed": false,
    "pycharm": {
     "name": "#%%\n"
    }
   }
  },
  {
   "cell_type": "code",
   "execution_count": 33,
   "outputs": [],
   "source": [
    "df_final = pd.concat([df_t.id, df_final], axis = 1)"
   ],
   "metadata": {
    "collapsed": false,
    "pycharm": {
     "name": "#%%\n"
    }
   }
  },
  {
   "cell_type": "code",
   "execution_count": 34,
   "outputs": [],
   "source": [
    "hand_in = df_final.rename(columns={1:'Prob'})"
   ],
   "metadata": {
    "collapsed": false,
    "pycharm": {
     "name": "#%%\n"
    }
   }
  },
  {
   "cell_type": "code",
   "execution_count": 35,
   "outputs": [
    {
     "data": {
      "text/plain": "          id  Prob\n0      25540   0.0\n1      29938   0.0\n2       9585   0.0\n3      23597   0.0\n4      27695   0.0\n...      ...   ...\n32081  25657   0.0\n32082   6384   0.0\n32083  26582   0.0\n32084   5394   0.0\n32085  26787   0.0\n\n[32086 rows x 2 columns]",
      "text/html": "<div>\n<style scoped>\n    .dataframe tbody tr th:only-of-type {\n        vertical-align: middle;\n    }\n\n    .dataframe tbody tr th {\n        vertical-align: top;\n    }\n\n    .dataframe thead th {\n        text-align: right;\n    }\n</style>\n<table border=\"1\" class=\"dataframe\">\n  <thead>\n    <tr style=\"text-align: right;\">\n      <th></th>\n      <th>id</th>\n      <th>Prob</th>\n    </tr>\n  </thead>\n  <tbody>\n    <tr>\n      <th>0</th>\n      <td>25540</td>\n      <td>0.0</td>\n    </tr>\n    <tr>\n      <th>1</th>\n      <td>29938</td>\n      <td>0.0</td>\n    </tr>\n    <tr>\n      <th>2</th>\n      <td>9585</td>\n      <td>0.0</td>\n    </tr>\n    <tr>\n      <th>3</th>\n      <td>23597</td>\n      <td>0.0</td>\n    </tr>\n    <tr>\n      <th>4</th>\n      <td>27695</td>\n      <td>0.0</td>\n    </tr>\n    <tr>\n      <th>...</th>\n      <td>...</td>\n      <td>...</td>\n    </tr>\n    <tr>\n      <th>32081</th>\n      <td>25657</td>\n      <td>0.0</td>\n    </tr>\n    <tr>\n      <th>32082</th>\n      <td>6384</td>\n      <td>0.0</td>\n    </tr>\n    <tr>\n      <th>32083</th>\n      <td>26582</td>\n      <td>0.0</td>\n    </tr>\n    <tr>\n      <th>32084</th>\n      <td>5394</td>\n      <td>0.0</td>\n    </tr>\n    <tr>\n      <th>32085</th>\n      <td>26787</td>\n      <td>0.0</td>\n    </tr>\n  </tbody>\n</table>\n<p>32086 rows × 2 columns</p>\n</div>"
     },
     "execution_count": 35,
     "metadata": {},
     "output_type": "execute_result"
    }
   ],
   "source": [
    "hand_in"
   ],
   "metadata": {
    "collapsed": false,
    "pycharm": {
     "name": "#%%\n"
    }
   }
  },
  {
   "cell_type": "code",
   "execution_count": 36,
   "outputs": [],
   "source": [
    "hand_in.to_csv('Assignment 3&4 Hand in.csv', index = False)\n",
    "\n",
    "\n"
   ],
   "metadata": {
    "collapsed": false,
    "pycharm": {
     "name": "#%%\n"
    }
   }
  },
  {
   "cell_type": "markdown",
   "source": [
    "# Out of Curiosity trying with XG Boost\n",
    "--> Outcome the same as with GNB"
   ],
   "metadata": {
    "collapsed": false
   }
  },
  {
   "cell_type": "markdown",
   "source": [
    "Trying with XGboost"
   ],
   "metadata": {
    "collapsed": false
   }
  },
  {
   "cell_type": "code",
   "execution_count": 37,
   "outputs": [],
   "source": [
    "from xgboost import XGBClassifier"
   ],
   "metadata": {
    "collapsed": false,
    "pycharm": {
     "name": "#%%\n"
    }
   }
  },
  {
   "cell_type": "code",
   "execution_count": 38,
   "outputs": [],
   "source": [
    "model_x = XGBClassifier()"
   ],
   "metadata": {
    "collapsed": false,
    "pycharm": {
     "name": "#%%\n"
    }
   }
  },
  {
   "cell_type": "code",
   "execution_count": 39,
   "outputs": [],
   "source": [
    "model_x.fit(x_train, y_train.values.ravel())\n",
    "y_pred_x = model_x.predict(x_test)"
   ],
   "metadata": {
    "collapsed": false,
    "pycharm": {
     "name": "#%%\n"
    }
   }
  },
  {
   "cell_type": "code",
   "execution_count": 40,
   "outputs": [
    {
     "name": "stdout",
     "output_type": "stream",
     "text": [
      "              precision    recall  f1-score   support\n",
      "\n",
      "          -1       1.00      1.00      1.00      6277\n",
      "           1       1.00      1.00      1.00         9\n",
      "\n",
      "    accuracy                           1.00      6286\n",
      "   macro avg       1.00      1.00      1.00      6286\n",
      "weighted avg       1.00      1.00      1.00      6286\n",
      "\n"
     ]
    }
   ],
   "source": [
    "print(classification_report(y_test,y_pred_x))"
   ],
   "metadata": {
    "collapsed": false,
    "pycharm": {
     "name": "#%%\n"
    }
   }
  },
  {
   "cell_type": "code",
   "execution_count": 41,
   "outputs": [],
   "source": [
    "y_pred_x2 = model_x.predict(x_2)"
   ],
   "metadata": {
    "collapsed": false,
    "pycharm": {
     "name": "#%%\n"
    }
   }
  },
  {
   "cell_type": "code",
   "execution_count": 42,
   "outputs": [
    {
     "name": "stdout",
     "output_type": "stream",
     "text": [
      "              precision    recall  f1-score   support\n",
      "\n",
      "          -1       1.00      1.00      1.00     32086\n",
      "\n",
      "    accuracy                           1.00     32086\n",
      "   macro avg       1.00      1.00      1.00     32086\n",
      "weighted avg       1.00      1.00      1.00     32086\n",
      "\n"
     ]
    }
   ],
   "source": [
    "print(classification_report(y_2,y_pred_x2))"
   ],
   "metadata": {
    "collapsed": false,
    "pycharm": {
     "name": "#%%\n"
    }
   }
  },
  {
   "cell_type": "code",
   "execution_count": 43,
   "outputs": [
    {
     "ename": "NameError",
     "evalue": "name 'x_test2' is not defined",
     "output_type": "error",
     "traceback": [
      "\u001B[1;31m---------------------------------------------------------------------------\u001B[0m",
      "\u001B[1;31mNameError\u001B[0m                                 Traceback (most recent call last)",
      "\u001B[1;32m<ipython-input-43-9eae974990ab>\u001B[0m in \u001B[0;36m<module>\u001B[1;34m\u001B[0m\n\u001B[1;32m----> 1\u001B[1;33m \u001B[0my_proba_x\u001B[0m \u001B[1;33m=\u001B[0m \u001B[0mgnb\u001B[0m\u001B[1;33m.\u001B[0m\u001B[0mpredict_proba\u001B[0m\u001B[1;33m(\u001B[0m\u001B[0mx_test2\u001B[0m\u001B[1;33m)\u001B[0m\u001B[1;33m\u001B[0m\u001B[1;33m\u001B[0m\u001B[0m\n\u001B[0m\u001B[0;32m      2\u001B[0m \u001B[1;33m\u001B[0m\u001B[0m\n",
      "\u001B[1;31mNameError\u001B[0m: name 'x_test2' is not defined"
     ]
    }
   ],
   "source": [
    "y_proba_x = gnb.predict_proba(x_test2)"
   ],
   "metadata": {
    "collapsed": false,
    "pycharm": {
     "name": "#%%\n"
    }
   }
  },
  {
   "cell_type": "code",
   "execution_count": null,
   "outputs": [],
   "source": [
    "pd.DataFrame(y_proba_x).head()"
   ],
   "metadata": {
    "collapsed": false,
    "pycharm": {
     "name": "#%%\n"
    }
   }
  }
 ],
 "metadata": {
  "kernelspec": {
   "display_name": "Python 3",
   "language": "python",
   "name": "python3"
  },
  "language_info": {
   "codemirror_mode": {
    "name": "ipython",
    "version": 2
   },
   "file_extension": ".py",
   "mimetype": "text/x-python",
   "name": "python",
   "nbconvert_exporter": "python",
   "pygments_lexer": "ipython2",
   "version": "2.7.6"
  }
 },
 "nbformat": 4,
 "nbformat_minor": 0
}