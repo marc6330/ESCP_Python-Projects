{
 "cells": [
  {
   "cell_type": "markdown",
   "source": [
    "Python assignment for uni Ml Course in Python"
   ],
   "metadata": {
    "collapsed": false
   }
  },
  {
   "cell_type": "markdown",
   "source": [
    "Import necessary packages"
   ],
   "metadata": {
    "collapsed": false
   }
  },
  {
   "cell_type": "code",
   "execution_count": 111,
   "outputs": [],
   "source": [
    "import pandas as pd"
   ],
   "metadata": {
    "collapsed": false,
    "pycharm": {
     "name": "#%%\n"
    }
   }
  },
  {
   "cell_type": "markdown",
   "source": [
    "1. Read file titanic"
   ],
   "metadata": {
    "collapsed": false
   }
  },
  {
   "cell_type": "code",
   "execution_count": 112,
   "outputs": [
    {
     "data": {
      "text/plain": "   PassengerId  Survived  Pclass  \\\n0            1         0       3   \n1            2         1       1   \n2            3         1       3   \n3            4         1       1   \n4            5         0       3   \n\n                                                Name     Sex   Age  SibSp  \\\n0                            Braund, Mr. Owen Harris    male  22.0      1   \n1  Cumings, Mrs. John Bradley (Florence Briggs Th...  female  38.0      1   \n2                             Heikkinen, Miss. Laina  female  26.0      0   \n3       Futrelle, Mrs. Jacques Heath (Lily May Peel)  female  35.0      1   \n4                           Allen, Mr. William Henry    male  35.0      0   \n\n   Parch            Ticket     Fare Cabin Embarked  \n0      0         A/5 21171   7.2500   NaN        S  \n1      0          PC 17599  71.2833   C85        C  \n2      0  STON/O2. 3101282   7.9250   NaN        S  \n3      0            113803  53.1000  C123        S  \n4      0            373450   8.0500   NaN        S  ",
      "text/html": "<div>\n<style scoped>\n    .dataframe tbody tr th:only-of-type {\n        vertical-align: middle;\n    }\n\n    .dataframe tbody tr th {\n        vertical-align: top;\n    }\n\n    .dataframe thead th {\n        text-align: right;\n    }\n</style>\n<table border=\"1\" class=\"dataframe\">\n  <thead>\n    <tr style=\"text-align: right;\">\n      <th></th>\n      <th>PassengerId</th>\n      <th>Survived</th>\n      <th>Pclass</th>\n      <th>Name</th>\n      <th>Sex</th>\n      <th>Age</th>\n      <th>SibSp</th>\n      <th>Parch</th>\n      <th>Ticket</th>\n      <th>Fare</th>\n      <th>Cabin</th>\n      <th>Embarked</th>\n    </tr>\n  </thead>\n  <tbody>\n    <tr>\n      <th>0</th>\n      <td>1</td>\n      <td>0</td>\n      <td>3</td>\n      <td>Braund, Mr. Owen Harris</td>\n      <td>male</td>\n      <td>22.0</td>\n      <td>1</td>\n      <td>0</td>\n      <td>A/5 21171</td>\n      <td>7.2500</td>\n      <td>NaN</td>\n      <td>S</td>\n    </tr>\n    <tr>\n      <th>1</th>\n      <td>2</td>\n      <td>1</td>\n      <td>1</td>\n      <td>Cumings, Mrs. John Bradley (Florence Briggs Th...</td>\n      <td>female</td>\n      <td>38.0</td>\n      <td>1</td>\n      <td>0</td>\n      <td>PC 17599</td>\n      <td>71.2833</td>\n      <td>C85</td>\n      <td>C</td>\n    </tr>\n    <tr>\n      <th>2</th>\n      <td>3</td>\n      <td>1</td>\n      <td>3</td>\n      <td>Heikkinen, Miss. Laina</td>\n      <td>female</td>\n      <td>26.0</td>\n      <td>0</td>\n      <td>0</td>\n      <td>STON/O2. 3101282</td>\n      <td>7.9250</td>\n      <td>NaN</td>\n      <td>S</td>\n    </tr>\n    <tr>\n      <th>3</th>\n      <td>4</td>\n      <td>1</td>\n      <td>1</td>\n      <td>Futrelle, Mrs. Jacques Heath (Lily May Peel)</td>\n      <td>female</td>\n      <td>35.0</td>\n      <td>1</td>\n      <td>0</td>\n      <td>113803</td>\n      <td>53.1000</td>\n      <td>C123</td>\n      <td>S</td>\n    </tr>\n    <tr>\n      <th>4</th>\n      <td>5</td>\n      <td>0</td>\n      <td>3</td>\n      <td>Allen, Mr. William Henry</td>\n      <td>male</td>\n      <td>35.0</td>\n      <td>0</td>\n      <td>0</td>\n      <td>373450</td>\n      <td>8.0500</td>\n      <td>NaN</td>\n      <td>S</td>\n    </tr>\n  </tbody>\n</table>\n</div>"
     },
     "execution_count": 112,
     "metadata": {},
     "output_type": "execute_result"
    }
   ],
   "source": [
    "df = pd.read_csv('C:/Users/Marc/Dropbox/06_ESCP/01_Uni/04_Term 2/03_Python ML/02_2nd Lecture/titanic.csv')\n",
    "df.head()"
   ],
   "metadata": {
    "collapsed": false,
    "pycharm": {
     "name": "#%%\n"
    }
   }
  },
  {
   "cell_type": "markdown",
   "source": [
    "look at df closer"
   ],
   "metadata": {
    "collapsed": false
   }
  },
  {
   "cell_type": "code",
   "execution_count": 113,
   "outputs": [
    {
     "data": {
      "text/plain": "Index(['PassengerId', 'Survived', 'Pclass', 'Name', 'Sex', 'Age', 'SibSp',\n       'Parch', 'Ticket', 'Fare', 'Cabin', 'Embarked'],\n      dtype='object')"
     },
     "execution_count": 113,
     "metadata": {},
     "output_type": "execute_result"
    }
   ],
   "source": [
    "df.columns"
   ],
   "metadata": {
    "collapsed": false,
    "pycharm": {
     "name": "#%%\n"
    }
   }
  },
  {
   "cell_type": "markdown",
   "source": [
    "Q1: How many people are in titanic and how many survivors?"
   ],
   "metadata": {
    "collapsed": false
   }
  },
  {
   "cell_type": "code",
   "execution_count": 114,
   "outputs": [
    {
     "name": "stdout",
     "output_type": "stream",
     "text": [
      "on the titanic there were 891 Passengers and \n",
      "342 of them survived\n"
     ]
    }
   ],
   "source": [
    "PassengerAmount = str(df.PassengerId.count())\n",
    "SurvivedAmount = str(df.Survived.sum())\n",
    "\n",
    "\n",
    "print('on the titanic there were ' + PassengerAmount + ' Passengers and \\n' + SurvivedAmount + ' of them survived')"
   ],
   "metadata": {
    "collapsed": false,
    "pycharm": {
     "name": "#%%\n"
    }
   }
  },
  {
   "cell_type": "code",
   "execution_count": 115,
   "outputs": [
    {
     "name": "stdout",
     "output_type": "stream",
     "text": [
      "Object `female` not found.\n"
     ]
    }
   ],
   "source": [
    "How many that survived were female and how many that died were female?"
   ],
   "metadata": {
    "collapsed": false,
    "pycharm": {
     "name": "#%% md Q2:\n"
    }
   }
  },
  {
   "cell_type": "code",
   "execution_count": 116,
   "outputs": [
    {
     "name": "stdout",
     "output_type": "stream",
     "text": [
      "There were 314 on board, where 233 survived \n",
      "and 81 died.\n"
     ]
    },
    {
     "data": {
      "text/plain": "True"
     },
     "execution_count": 116,
     "metadata": {},
     "output_type": "execute_result"
    }
   ],
   "source": [
    "df_f = df[df['Sex'] == 'female']\n",
    "total_females = df_f.Sex.count()\n",
    "f_survived = df_f.Survived.sum()\n",
    "f_died = df_f.Survived.count() - df_f.Survived.sum()\n",
    "check = total_females - f_survived - f_died == 0\n",
    "\n",
    "print('There were ' + str(total_females) + ' on board, where '+ str(f_survived) + ' survived \\nand ' + str(f_died) + ' died.')\n",
    "\n",
    "check"
   ],
   "metadata": {
    "collapsed": false,
    "pycharm": {
     "name": "#%%\n"
    }
   }
  },
  {
   "cell_type": "markdown",
   "source": [
    "Q3: How many children were on the titanic?\n",
    "Assumption that Children < 18"
   ],
   "metadata": {
    "collapsed": false,
    "pycharm": {
     "name": "#%% md\n"
    }
   }
  },
  {
   "cell_type": "code",
   "execution_count": 117,
   "outputs": [
    {
     "name": "stdout",
     "output_type": "stream",
     "text": [
      "There were 113 on board\n"
     ]
    }
   ],
   "source": [
    "df_children = df[df['Age'] < 18]\n",
    "numChildren = df_children.Age.count()\n",
    "\n",
    "print('There were ' +  str(numChildren) + ' on board')"
   ],
   "metadata": {
    "collapsed": false,
    "pycharm": {
     "name": "#%%\n"
    }
   }
  },
  {
   "cell_type": "markdown",
   "source": [
    "Q4: How many children died that were on the ship?"
   ],
   "metadata": {
    "collapsed": false,
    "pycharm": {
     "name": "#%% md\n"
    }
   }
  },
  {
   "cell_type": "code",
   "execution_count": 118,
   "outputs": [
    {
     "name": "stdout",
     "output_type": "stream",
     "text": [
      "Out of the 113 Children that boarded Titanic, \n",
      "61 survived\n"
     ]
    }
   ],
   "source": [
    "childSurvived = df_children.Survived.sum()\n",
    "print('Out of the ' + str(numChildren) + ' Children that boarded Titanic, \\n' + str(childSurvived) + ' survived')"
   ],
   "metadata": {
    "collapsed": false,
    "pycharm": {
     "name": "#%%\n"
    }
   }
  },
  {
   "cell_type": "markdown",
   "source": [
    "Q5 How many people had families with them?\n",
    "Assumption: ParCh Sibsp mean family on board"
   ],
   "metadata": {
    "collapsed": false,
    "pycharm": {
     "name": "#%% md\n"
    }
   }
  },
  {
   "cell_type": "code",
   "execution_count": 119,
   "outputs": [
    {
     "name": "stdout",
     "output_type": "stream",
     "text": [
      "There were 354 people with either parent,\n",
      "children, siblings or spouses on board\n"
     ]
    }
   ],
   "source": [
    "Wfamily = df[(df['SibSp'] > 0) | (df['Parch'] > 0)]\n",
    "numWfamily = Wfamily.PassengerId.count()\n",
    "\n",
    "print('There were ' + str(numWfamily) + ' people with either parent,\\nchildren, siblings or spouses on board')"
   ],
   "metadata": {
    "collapsed": false,
    "pycharm": {
     "name": "#%%\n"
    }
   }
  },
  {
   "cell_type": "markdown",
   "source": [
    "Q6: What is the ratio of female to male?"
   ],
   "metadata": {
    "collapsed": false,
    "pycharm": {
     "name": "#%% md\n"
    }
   }
  },
  {
   "cell_type": "code",
   "execution_count": 120,
   "outputs": [
    {
     "name": "stdout",
     "output_type": "stream",
     "text": [
      "The ratio of females on the board was 35.24%\n",
      "The ratio of males on the board was 64.76%\n"
     ]
    }
   ],
   "source": [
    "total_females = df_f.Sex.count()\n",
    "total = df.Sex.count()\n",
    "sex_ratio_f = round((total_females / total) * 100, ndigits = 2)\n",
    "sex_ratio_m = round(((total - total_females) / total) * 100, ndigits = 2)\n",
    "\n",
    "\n",
    "print('The ratio of females initially on board was ' + str(sex_ratio_f) + '%')\n",
    "print('The ratio of males initially on board was ' + str(sex_ratio_m) + '%')"
   ],
   "metadata": {
    "collapsed": false,
    "pycharm": {
     "name": "#%%\n"
    }
   }
  },
  {
   "cell_type": "markdown",
   "source": [
    "Q7: What contributed to the survival of those who survived?\n",
    "- 1st: See whether proportionally more f or m survived"
   ],
   "metadata": {
    "collapsed": false,
    "pycharm": {
     "name": "#%% md\n"
    }
   }
  },
  {
   "cell_type": "code",
   "execution_count": 121,
   "outputs": [
    {
     "name": "stdout",
     "output_type": "stream",
     "text": [
      "Of the survived people 68.13% were females.\n"
     ]
    }
   ],
   "source": [
    "df_S = df[df['Survived'] == 1]\n",
    "df_f_S = df_S[df_S['Sex'] == 'female']\n",
    "total_females_S = df_f_S.Sex.count()\n",
    "total_S = df_S.Sex.count()\n",
    "sex_ratio_f_S = round((total_females_S / total_S) * 100, ndigits = 2)\n",
    "sex_ratio_m_S = round(((total_S - total_females_S) / total_S) * 100, ndigits = 2)\n",
    "\n",
    "print('Of the survived people ' + str(sex_ratio_f_S) + '%' + ' were females.')"
   ],
   "metadata": {
    "collapsed": false,
    "pycharm": {
     "name": "#%%\n"
    }
   }
  },
  {
   "cell_type": "markdown",
   "source": [
    "As initially there were only 35% female on board, however 69% of the survivers were females, one could deduct that it woman might have been saved faster\n",
    "\n",
    "- 2nd: Check whether childred or adults had a better chance of surviving"
   ],
   "metadata": {
    "collapsed": false,
    "pycharm": {
     "name": "#%% md\n",
     "is_executing": true
    }
   },
   "outputs": [
    {
     "ename": "SyntaxError",
     "evalue": "invalid syntax (<ipython-input-110-ba6b3b6fb45b>, line 1)",
     "output_type": "error",
     "traceback": [
      "\u001B[1;36m  File \u001B[1;32m\"<ipython-input-110-ba6b3b6fb45b>\"\u001B[1;36m, line \u001B[1;32m1\u001B[0m\n\u001B[1;33m    Thus, proportionally more femlae then male survived')\u001B[0m\n\u001B[1;37m                         ^\u001B[0m\n\u001B[1;31mSyntaxError\u001B[0m\u001B[1;31m:\u001B[0m invalid syntax\n"
     ]
    }
   ]
  },
  {
   "cell_type": "code",
   "execution_count": 126,
   "outputs": [
    {
     "name": "stdout",
     "output_type": "stream",
     "text": [
      "The ratio of children to adults on board was 13.0%\n"
     ]
    }
   ],
   "source": [
    "df_children = df[df['Age'] < 18]\n",
    "CtoP_Ratio_before = round(df_children.Age.count() / total, ndigits= 2) *100\n",
    "\n",
    "print('The ratio of children to adults initally on board was ' + str(CtoP_Ratio_before) + '%')"
   ],
   "metadata": {
    "collapsed": false,
    "pycharm": {
     "name": "#%%\n"
    }
   }
  },
  {
   "cell_type": "code",
   "execution_count": 128,
   "outputs": [
    {
     "name": "stdout",
     "output_type": "stream",
     "text": [
      "The ratio of children to adults initally on board was 21.0%\n"
     ]
    }
   ],
   "source": [
    "df_Child_S = df_S[df_S['Age'] < 18]\n",
    "CtoP_Ratio_after = round(df_Child_S.Age.count() / df_S.Age.count(), ndigits= 2) *100\n",
    "\n",
    "print('The ratio of children to adults initally on board was ' + str(CtoP_Ratio_after) + '%')"
   ],
   "metadata": {
    "collapsed": false,
    "pycharm": {
     "name": "#%%\n"
    }
   }
  },
  {
   "cell_type": "markdown",
   "source": [
    "It seems that also Children (People w/ age < 18) had a bigger chance of survival. This becomes apparent as initally only 13% of the people on board were childrend. Of the surivivers there were however 21%. Hence, there is a clear increase in the percentage, and one could therefore deduct that childred had a higher chance of survival."
   ],
   "metadata": {
    "collapsed": false,
    "pycharm": {
     "name": "#%% md\n",
     "is_executing": true
    }
   },
   "outputs": [
    {
     "ename": "SyntaxError",
     "evalue": "invalid syntax (<ipython-input-129-e3060459774e>, line 1)",
     "output_type": "error",
     "traceback": [
      "\u001B[1;36m  File \u001B[1;32m\"<ipython-input-129-e3060459774e>\"\u001B[1;36m, line \u001B[1;32m1\u001B[0m\n\u001B[1;33m    It seems that also Children (People w/ age < 18) had a bigger chance of survival. This becomes apparent as initally only 13% of the people on board were childrend. Of the surivivers there were however 21%. Hence, there is a clear increase in the percentage, and one could therefore deduct that childred had a higher chance of survival.\u001B[0m\n\u001B[1;37m       ^\u001B[0m\n\u001B[1;31mSyntaxError\u001B[0m\u001B[1;31m:\u001B[0m invalid syntax\n"
     ]
    }
   ]
  }
 ],
 "metadata": {
  "kernelspec": {
   "display_name": "Python 3",
   "language": "python",
   "name": "python3"
  },
  "language_info": {
   "codemirror_mode": {
    "name": "ipython",
    "version": 2
   },
   "file_extension": ".py",
   "mimetype": "text/x-python",
   "name": "python",
   "nbconvert_exporter": "python",
   "pygments_lexer": "ipython2",
   "version": "2.7.6"
  }
 },
 "nbformat": 4,
 "nbformat_minor": 0
}